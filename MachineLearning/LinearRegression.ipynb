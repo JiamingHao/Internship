{
 "cells": [
  {
   "cell_type": "code",
   "execution_count": 42,
   "metadata": {},
   "outputs": [
    {
     "name": "stdout",
     "output_type": "stream",
     "text": [
      "[0, 20, 40, 60, 80, 100]\n",
      "y: 0\n",
      "y1: 0\n",
      "diff: 0\n",
      "\n",
      "\n",
      "y: 20\n",
      "y1: 20\n",
      "diff: 0\n",
      "\n",
      "\n",
      "y: 60\n",
      "y1: 40\n",
      "diff: 400\n",
      "\n",
      "\n",
      "y: 68\n",
      "y1: 60\n",
      "diff: 64\n",
      "\n",
      "\n",
      "y: 77\n",
      "y1: 80\n",
      "diff: 9\n",
      "\n",
      "\n",
      "y: 110\n",
      "y1: 100\n",
      "diff: 100\n",
      "\n",
      "\n",
      "573\n",
      "<zip object at 0x000001CAAA4FAB08>\n"
     ]
    }
   ],
   "source": [
    "x=[0,1,2,3,4,5]\n",
    "#print (x)\n",
    "y=[0,20,60,68,77,110]\n",
    "y1=[]\n",
    "\n",
    "for i in x:\n",
    "    y1.append(i*20)\n",
    "    \n",
    "print(y1)\n",
    "diff = 0\n",
    "for index in range(len(y1)):\n",
    "    print(\"y: \", end='')\n",
    "    print(y[index])\n",
    "    print(\"y1: \",end='')\n",
    "    print(y1[index])\n",
    "    print(\"diff: \", end='')\n",
    "    print((y[index]-y1[index])**2)\n",
    "    print(\"\\n\")\n",
    "    diff = diff + (y[index]-y1[index])**2\n",
    "\n",
    "\n",
    "\n",
    "\n",
    "print(diff)\n",
    "\n",
    "print(zip(y,y1))"
   ]
  },
  {
   "cell_type": "code",
   "execution_count": 23,
   "metadata": {},
   "outputs": [
    {
     "name": "stdout",
     "output_type": "stream",
     "text": [
      "6\n",
      "10\n"
     ]
    }
   ],
   "source": [
    "f = lambda x,y,z : x+y+z    \n",
    "print (f(1,2,3))    \n",
    "    \n",
    "g = lambda x,y=2,z=3 : x+y+z    \n",
    "print (g(1,z=4,y=5))   "
   ]
  },
  {
   "cell_type": "code",
   "execution_count": 34,
   "metadata": {},
   "outputs": [
    {
     "name": "stdout",
     "output_type": "stream",
     "text": [
      "34\n"
     ]
    }
   ],
   "source": [
    "print (\"3\", end=''),\n",
    "print(\"4\")"
   ]
  },
  {
   "cell_type": "code",
   "execution_count": 62,
   "metadata": {},
   "outputs": [
    {
     "name": "stdout",
     "output_type": "stream",
     "text": [
      "[9, 9, 9]\n"
     ]
    }
   ],
   "source": [
    "def diffSq(para1, para2):\n",
    "    return map(lambda x,y: (x-y)**2, para1,para2)\n",
    "\n",
    "l1=[1,2,3]\n",
    "l2=[4,5,6]\n",
    "result = diffSq(l1,l2)\n",
    "list=[]\n",
    "for x in result:\n",
    "    list.append(x)\n",
    "print (list)"
   ]
  },
  {
   "cell_type": "code",
   "execution_count": 56,
   "metadata": {},
   "outputs": [
    {
     "name": "stdout",
     "output_type": "stream",
     "text": [
      "[0, 20, 40, 60, 80, 100]\n",
      "[1, 2, 3, 4]\n"
     ]
    }
   ],
   "source": [
    "x=[0,1,2,3,4,5]\n",
    "itr = map(lambda x: x*20, x)\n",
    "\n",
    "list=[]\n",
    "for x in itr:\n",
    "    #print(\"x: \", end='')\n",
    "    #print(x)\n",
    "    list.append(x)\n",
    "\n",
    "print (list)\n",
    "\n",
    "y=[1,2,3,4]\n",
    "print (y)"
   ]
  },
  {
   "cell_type": "code",
   "execution_count": 2,
   "metadata": {},
   "outputs": [
    {
     "data": {
      "text/plain": [
       "array([0., 0., 0., 0., 0.])"
      ]
     },
     "execution_count": 2,
     "metadata": {},
     "output_type": "execute_result"
    }
   ],
   "source": [
    "import numpy as np\n",
    "np.zeros(5)"
   ]
  },
  {
   "cell_type": "code",
   "execution_count": 4,
   "metadata": {},
   "outputs": [],
   "source": [
    "x = np.array([1.1, 1.2, 1.3, 1.4, 1.5])  \n",
    "y = np.array([2.1, 2.2, 2.3, 2.4, 2.5])  \n",
    "condition = np.array([True, False, True, True, False])  \n",
    "result = np.where(condition, x, y)  "
   ]
  },
  {
   "cell_type": "code",
   "execution_count": 5,
   "metadata": {},
   "outputs": [
    {
     "name": "stdout",
     "output_type": "stream",
     "text": [
      "[1.1 2.2 1.3 1.4 2.5]\n"
     ]
    }
   ],
   "source": [
    "print(result)"
   ]
  },
  {
   "cell_type": "code",
   "execution_count": 8,
   "metadata": {},
   "outputs": [
    {
     "data": {
      "text/html": [
       "<div>\n",
       "<style scoped>\n",
       "    .dataframe tbody tr th:only-of-type {\n",
       "        vertical-align: middle;\n",
       "    }\n",
       "\n",
       "    .dataframe tbody tr th {\n",
       "        vertical-align: top;\n",
       "    }\n",
       "\n",
       "    .dataframe thead th {\n",
       "        text-align: right;\n",
       "    }\n",
       "</style>\n",
       "<table border=\"1\" class=\"dataframe\">\n",
       "  <thead>\n",
       "    <tr style=\"text-align: right;\">\n",
       "      <th></th>\n",
       "      <th>0</th>\n",
       "      <th>1</th>\n",
       "      <th>2</th>\n",
       "      <th>3</th>\n",
       "      <th>4</th>\n",
       "    </tr>\n",
       "  </thead>\n",
       "  <tbody>\n",
       "    <tr>\n",
       "      <th>145</th>\n",
       "      <td>6.7</td>\n",
       "      <td>3.0</td>\n",
       "      <td>5.2</td>\n",
       "      <td>2.3</td>\n",
       "      <td>Iris-virginica</td>\n",
       "    </tr>\n",
       "    <tr>\n",
       "      <th>146</th>\n",
       "      <td>6.3</td>\n",
       "      <td>2.5</td>\n",
       "      <td>5.0</td>\n",
       "      <td>1.9</td>\n",
       "      <td>Iris-virginica</td>\n",
       "    </tr>\n",
       "    <tr>\n",
       "      <th>147</th>\n",
       "      <td>6.5</td>\n",
       "      <td>3.0</td>\n",
       "      <td>5.2</td>\n",
       "      <td>2.0</td>\n",
       "      <td>Iris-virginica</td>\n",
       "    </tr>\n",
       "    <tr>\n",
       "      <th>148</th>\n",
       "      <td>6.2</td>\n",
       "      <td>3.4</td>\n",
       "      <td>5.4</td>\n",
       "      <td>2.3</td>\n",
       "      <td>Iris-virginica</td>\n",
       "    </tr>\n",
       "    <tr>\n",
       "      <th>149</th>\n",
       "      <td>5.9</td>\n",
       "      <td>3.0</td>\n",
       "      <td>5.1</td>\n",
       "      <td>1.8</td>\n",
       "      <td>Iris-virginica</td>\n",
       "    </tr>\n",
       "  </tbody>\n",
       "</table>\n",
       "</div>"
      ],
      "text/plain": [
       "       0    1    2    3               4\n",
       "145  6.7  3.0  5.2  2.3  Iris-virginica\n",
       "146  6.3  2.5  5.0  1.9  Iris-virginica\n",
       "147  6.5  3.0  5.2  2.0  Iris-virginica\n",
       "148  6.2  3.4  5.4  2.3  Iris-virginica\n",
       "149  5.9  3.0  5.1  1.8  Iris-virginica"
      ]
     },
     "execution_count": 8,
     "metadata": {},
     "output_type": "execute_result"
    }
   ],
   "source": [
    "import pandas as pd\n",
    "df = pd.read_csv('http://archive.ics.uci.edu/ml/machine-learning-databases/iris/iris.data', header=None)\n",
    "df.tail()\n",
    "\n"
   ]
  },
  {
   "cell_type": "code",
   "execution_count": 15,
   "metadata": {},
   "outputs": [
    {
     "data": {
      "text/plain": [
       "<matplotlib.legend.Legend at 0x2a578480518>"
      ]
     },
     "execution_count": 15,
     "metadata": {},
     "output_type": "execute_result"
    },
    {
     "data": {
      "image/png": "[encoded data removed]",
      "text/plain": [
       "<Figure size 432x288 with 1 Axes>"
      ]
     },
     "metadata": {},
     "output_type": "display_data"
    }
   ],
   "source": [
    "import matplotlib.pyplot as plt\n",
    "import numpy as np\n",
    "\n",
    "y=df.iloc[0:100, 4].values\n",
    "y=np.where(y == 'Iris-setosa', -1,1)\n",
    "x=df.iloc[0:100,[0,2]].values\n",
    "plt.scatter(x[:50,0],x[:50,1], color='red', marker='o', label='setosa')\n",
    "plt.scatter(x[50:100,0], x[50:100,1], color='blue', marker='x', label='versicolor')\n",
    "plt.xlabel('seoal length')\n",
    "plt.ylabel('petal length')\n",
    "plt.legend(loc='upper left')"
   ]
  },
  {
   "cell_type": "code",
   "execution_count": null,
   "metadata": {},
   "outputs": [],
   "source": []
  }
 ],
 "metadata": {
  "kernelspec": {
   "display_name": "Python 3",
   "language": "python",
   "name": "python3"
  },
  "language_info": {
   "codemirror_mode": {
    "name": "ipython",
    "version": 3
   },
   "file_extension": ".py",
   "mimetype": "text/x-python",
   "name": "python",
   "nbconvert_exporter": "python",
   "pygments_lexer": "ipython3",
   "version": "3.6.5"
  }
 },
 "nbformat": 4,
 "nbformat_minor": 2
}
