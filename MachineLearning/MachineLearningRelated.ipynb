{
 "cells": [
  {
   "cell_type": "code",
   "execution_count": 1,
   "metadata": {},
   "outputs": [
    {
     "data": {
      "text/plain": [
       "array([0., 5., 5., 5., 5.])"
      ]
     },
     "execution_count": 1,
     "metadata": {},
     "output_type": "execute_result"
    }
   ],
   "source": [
    "import numpy as np\n",
    "a=np.array([[1,2,3],\n",
    "            [4,5,6],\n",
    "            [7,8,9]])\n",
    "a\n",
    "a.shape\n",
    "a[1][2]\n",
    "#print (a.shape[1])\n",
    "b=np.zeros(5)\n",
    "b[1:]+=5\n",
    "b"
   ]
  },
  {
   "cell_type": "code",
   "execution_count": 7,
   "metadata": {},
   "outputs": [],
   "source": [
    "class Perceptron(object):\n",
    "    \"\"\" Perceptron classifier.\n",
    "    Parameters\n",
    "    --------------\n",
    "    eta:float\n",
    "        Learning rate(between 0.0 and 1.0)\n",
    "    n_iter:int\n",
    "        Passes over the training dataset\n",
    "    \n",
    "    Attributes\n",
    "    --------------\n",
    "    w_:1d-array\n",
    "        Weights after fitting.\n",
    "    errors_:list\n",
    "        Number of misclassifications in every epoch.\n",
    "    \"\"\"\n",
    "    def __init__(self, eta=0.01, n_iter=10):\n",
    "        self.eta = eta\n",
    "        self.n_iter = n_iter\n",
    "    \n",
    "    def fit(self, x, y):\n",
    "        \"\"\"Fit training data.\n",
    "        Parameters\n",
    "        ------------\n",
    "        x:{array-like},shape=[n_samples,n_features]\n",
    "        Training vectors, where n_samples\n",
    "        is the number of samples and\n",
    "        n_features is the number of features\n",
    "        \n",
    "        y:array-like,shape=[n_samples]\n",
    "        Target values.\n",
    "        \n",
    "        Returns\n",
    "        ------------\n",
    "        self:object\n",
    "        \"\"\"\n",
    "        \n",
    "        self.w_ = np.zeros(1+x.shape[1])\n",
    "        self.errors_=[]\n",
    "        \n",
    "        for _ in range(self.n_iter):\n",
    "            errors = 0\n",
    "            for xi, target in zip(x,y):\n",
    "                update=self.eta*(target-self.predict(xi))\n",
    "                self.w_[1:]+=update*xi\n",
    "                self.w_[0]+=update\n",
    "                errors+=int(update!=0.0)\n",
    "            self.errors_.append(errors)\n",
    "        return self\n",
    "    \n",
    "    def net_input(self, x):\n",
    "        \"\"\"Calculate net input\"\"\"\n",
    "        return np.dot(x, self.w_[1:]) + self.w_[0]\n",
    "    \n",
    "    def predict(self,x):\n",
    "        \"\"\"Return class label after unit step\"\"\"\n",
    "        return np.where(self.net_input(x) >= 0.0, 1, -1)"
   ]
  },
  {
   "cell_type": "code",
   "execution_count": 16,
   "metadata": {},
   "outputs": [
    {
     "data": {
      "text/html": [
       "<div>\n",
       "<style scoped>\n",
       "    .dataframe tbody tr th:only-of-type {\n",
       "        vertical-align: middle;\n",
       "    }\n",
       "\n",
       "    .dataframe tbody tr th {\n",
       "        vertical-align: top;\n",
       "    }\n",
       "\n",
       "    .dataframe thead th {\n",
       "        text-align: right;\n",
       "    }\n",
       "</style>\n",
       "<table border=\"1\" class=\"dataframe\">\n",
       "  <thead>\n",
       "    <tr style=\"text-align: right;\">\n",
       "      <th></th>\n",
       "      <th>0</th>\n",
       "      <th>1</th>\n",
       "      <th>2</th>\n",
       "      <th>3</th>\n",
       "      <th>4</th>\n",
       "    </tr>\n",
       "  </thead>\n",
       "  <tbody>\n",
       "    <tr>\n",
       "      <th>145</th>\n",
       "      <td>6.7</td>\n",
       "      <td>3.0</td>\n",
       "      <td>5.2</td>\n",
       "      <td>2.3</td>\n",
       "      <td>Iris-virginica</td>\n",
       "    </tr>\n",
       "    <tr>\n",
       "      <th>146</th>\n",
       "      <td>6.3</td>\n",
       "      <td>2.5</td>\n",
       "      <td>5.0</td>\n",
       "      <td>1.9</td>\n",
       "      <td>Iris-virginica</td>\n",
       "    </tr>\n",
       "    <tr>\n",
       "      <th>147</th>\n",
       "      <td>6.5</td>\n",
       "      <td>3.0</td>\n",
       "      <td>5.2</td>\n",
       "      <td>2.0</td>\n",
       "      <td>Iris-virginica</td>\n",
       "    </tr>\n",
       "    <tr>\n",
       "      <th>148</th>\n",
       "      <td>6.2</td>\n",
       "      <td>3.4</td>\n",
       "      <td>5.4</td>\n",
       "      <td>2.3</td>\n",
       "      <td>Iris-virginica</td>\n",
       "    </tr>\n",
       "    <tr>\n",
       "      <th>149</th>\n",
       "      <td>5.9</td>\n",
       "      <td>3.0</td>\n",
       "      <td>5.1</td>\n",
       "      <td>1.8</td>\n",
       "      <td>Iris-virginica</td>\n",
       "    </tr>\n",
       "  </tbody>\n",
       "</table>\n",
       "</div>"
      ],
      "text/plain": [
       "       0    1    2    3               4\n",
       "145  6.7  3.0  5.2  2.3  Iris-virginica\n",
       "146  6.3  2.5  5.0  1.9  Iris-virginica\n",
       "147  6.5  3.0  5.2  2.0  Iris-virginica\n",
       "148  6.2  3.4  5.4  2.3  Iris-virginica\n",
       "149  5.9  3.0  5.1  1.8  Iris-virginica"
      ]
     },
     "execution_count": 16,
     "metadata": {},
     "output_type": "execute_result"
    }
   ],
   "source": [
    "import pandas as pd\n",
    "df=pd.read_csv('https://archive.ics.uci.edu/ml/machine-learning-databases/iris/iris.data',header=None)\n",
    "df.tail()\n"
   ]
  },
  {
   "cell_type": "code",
   "execution_count": 18,
   "metadata": {},
   "outputs": [
    {
     "data": {
      "image/png": "[encoded data removed]",
      "text/plain": [
       "<Figure size 432x288 with 1 Axes>"
      ]
     },
     "metadata": {},
     "output_type": "display_data"
    }
   ],
   "source": [
    "import matplotlib.pyplot as plt\n",
    "import numpy as np\n",
    "y =df.iloc[0:100,4].values\n",
    "y=np.where(y=='Iris-setosa',-1,1)\n",
    "x=df.iloc[0:100,[0,2]].values\n",
    "plt.scatter(x[:50,0],x[:50,1],color='red',marker='o',label='setosa')\n",
    "plt.scatter(x[50:100,0],x[50:100,1],color='blue',marker='x',label='versicolor')\n",
    "plt.xlabel('sepal length')\n",
    "plt.ylabel('petal length')\n",
    "plt.legend(loc='upper left')\n",
    "plt.show()\n"
   ]
  },
  {
   "cell_type": "code",
   "execution_count": 28,
   "metadata": {},
   "outputs": [
    {
     "data": {
      "image/png": "[encoded data removed]",
      "text/plain": [
       "<Figure size 432x288 with 1 Axes>"
      ]
     },
     "metadata": {},
     "output_type": "display_data"
    }
   ],
   "source": [
    "ppn = Perceptron(eta=0.1, n_iter=10)\n",
    "ppn.fit(x,y)\n",
    "#print (y)\n",
    "#print(x)\n",
    "plt.plot(range(1,len(ppn.errors_)+1),ppn.errors_,marker='o')\n",
    "plt.xlabel(\"Epochs\")\n",
    "plt.ylabel('Number of misclassifications')\n",
    "plt.show()"
   ]
  },
  {
   "cell_type": "code",
   "execution_count": 40,
   "metadata": {
    "scrolled": true
   },
   "outputs": [
    {
     "data": {
      "image/png": "[encoded data removed]",
      "text/plain": [
       "<Figure size 432x288 with 1 Axes>"
      ]
     },
     "metadata": {},
     "output_type": "display_data"
    }
   ],
   "source": [
    "from matplotlib.colors import ListedColormap\n",
    "def plot_decision_regions(X,y,classifier,resolution=0.02):\n",
    "    # setup marker generator and color map\n",
    "    markers=('s','x','o','^','v')\n",
    "    colors=('red','blue','lightgreen','gray','cyan')\n",
    "    cmap=ListedColormap(colors[:len(np.unique(y))])\n",
    "    \n",
    "    # plot the decision surface\n",
    "    x1_min,x1_max=X[:,0].min()-1, X[:,0].max()+1\n",
    "    x2_min,x2_max=X[:,1].min()-1,X[:,1].max()+1\n",
    "    xx1,xx2=np.meshgrid(np.arange(x1_min,x1_max,resolution),np.arange(x2_min,x2_max,resolution))\n",
    "    z=classifier.predict(np.array([xx1.ravel(),xx2.ravel()]).T)\n",
    "    z=z.reshape(xx1.shape)\n",
    "    plt.contourf(xx1,xx2,z,alpha=0.4,cmap=cmap)\n",
    "    plt.xlim(xx1.min(),xx1.max())\n",
    "    plt.ylim(xx2.min(),xx2.max())\n",
    "    \n",
    "    # plot class samples\n",
    "    for idx, cl in enumerate(np.unique(y)):\n",
    "        plt.scatter(x=X[y==cl, 0], y=X[y==cl,1],alpha=0.8, c=cmap(idx),marker=markers[idx], label=cl)\n",
    "        \n",
    "plot_decision_regions(x, y, classifier=ppn)\n",
    "plt.xlabel('sepal length [cm]')\n",
    "plt.ylabel('petal length [cm]')\n",
    "plt.legend(loc='upper left')\n",
    "plt.show()\n",
    "    "
   ]
  },
  {
   "cell_type": "code",
   "execution_count": 18,
   "metadata": {},
   "outputs": [],
   "source": [
    "from sklearn import datasets\n",
    "import numpy as np\n",
    "iris=datasets.load_iris()\n",
    "x=iris.data[:,[2,3]]\n",
    "y=iris.target\n",
    "\n",
    "from sklearn.cross_validation import train_test_split\n",
    "x_train,x_test,y_train,y_test = train_test_split(x,y,test_size=0.3,random_state=0)\n",
    "\n",
    "from sklearn.preprocessing import StandardScaler\n",
    "sc=StandardScaler()\n",
    "sc.fit(x_train)\n",
    "x_train_std=sc.transform(x_train)"
   ]
  },
  {
   "cell_type": "code",
   "execution_count": 19,
   "metadata": {},
   "outputs": [],
   "source": [
    "from scipy.optimize import leastsq"
   ]
  },
  {
   "cell_type": "code",
   "execution_count": 21,
   "metadata": {},
   "outputs": [
    {
     "name": "stderr",
     "output_type": "stream",
     "text": [
      "usage: ipykernel_launcher.py [-h] [-e EPOCHS] [-a ALPHA]\n",
      "ipykernel_launcher.py: error: unrecognized arguments: -f C:\\Users\\jmhao\\AppData\\Roaming\\jupyter\\runtime\\kernel-4d7f3dd8-8a0a-4ced-a523-c6e9ceb63d5a.json\n"
     ]
    },
    {
     "ename": "SystemExit",
     "evalue": "2",
     "output_type": "error",
     "traceback": [
      "An exception has occurred, use %tb to see the full traceback.\n",
      "\u001b[1;31mSystemExit\u001b[0m\u001b[1;31m:\u001b[0m 2\n"
     ]
    },
    {
     "name": "stderr",
     "output_type": "stream",
     "text": [
      "C:\\Users\\jmhao\\AppData\\Local\\Continuum\\anaconda3\\lib\\site-packages\\IPython\\core\\interactiveshell.py:2971: UserWarning: To exit: use 'exit', 'quit', or Ctrl-D.\n",
      "  warn(\"To exit: use 'exit', 'quit', or Ctrl-D.\", stacklevel=1)\n"
     ]
    }
   ],
   "source": [
    "# import the necessary packages\n",
    "import matplotlib.pyplot as plt\n",
    "from sklearn.datasets.samples_generator import make_blobs\n",
    "import numpy as np\n",
    "import argparse\n",
    " \n",
    "def sigmoid_activation(x):\n",
    "\t# compute and return the sigmoid activation value for a\n",
    "\t# given input value\n",
    "\treturn 1.0 / (1 + np.exp(-x))\n",
    "\n",
    "# construct the argument parse and parse the arguments\n",
    "ap = argparse.ArgumentParser()\n",
    "ap.add_argument(\"-e\", \"--epochs\", type=float, default=100,\n",
    "\thelp=\"# of epochs\")\n",
    "ap.add_argument(\"-a\", \"--alpha\", type=float, default=0.01,\n",
    "\thelp=\"learning rate\")\n",
    "args = vars(ap.parse_args())\n",
    "# generate a 2-class classification problem with 250 data points,\n",
    "# where each data point is a 2D feature vector\n",
    "(X, y) = make_blobs(n_samples=250, n_features=2, centers=2,\n",
    "\tcluster_std=1.05, random_state=20)\n",
    " \n",
    "# insert a column of 1's as the first entry in the feature\n",
    "# vector -- this is a little trick that allows us to treat\n",
    "# the bias as a trainable parameter *within* the weight matrix\n",
    "# rather than an entirely separate variable\n",
    "X = np.c_[np.ones((X.shape[0])), X]\n",
    " \n",
    "# initialize our weight matrix such it has the same number of\n",
    "# columns as our input features\n",
    "print(\"[INFO] starting training...\")\n",
    "W = np.random.uniform(size=(X.shape[1],))\n",
    " \n",
    "# initialize a list to store the loss value for each epoch\n",
    "lossHistory = []"
   ]
  },
  {
   "cell_type": "code",
   "execution_count": 22,
   "metadata": {},
   "outputs": [
    {
     "name": "stdout",
     "output_type": "stream",
     "text": [
      "Enter your name: sd\n"
     ]
    }
   ],
   "source": [
    "name = input(\"Enter your name: \")"
   ]
  },
  {
   "cell_type": "code",
   "execution_count": 2,
   "metadata": {},
   "outputs": [
    {
     "name": "stderr",
     "output_type": "stream",
     "text": [
      "usage: ipykernel_launcher.py [-h] [-e EPOCHS] [-a ALPHA]\n",
      "ipykernel_launcher.py: error: unrecognized arguments: -f C:\\Users\\jmhao\\AppData\\Roaming\\jupyter\\runtime\\kernel-8a9766a1-9e06-4d18-b6ea-9d9c99cd5802.json\n"
     ]
    },
    {
     "ename": "SystemExit",
     "evalue": "2",
     "output_type": "error",
     "traceback": [
      "An exception has occurred, use %tb to see the full traceback.\n",
      "\u001b[1;31mSystemExit\u001b[0m\u001b[1;31m:\u001b[0m 2\n"
     ]
    },
    {
     "name": "stderr",
     "output_type": "stream",
     "text": [
      "C:\\Users\\jmhao\\AppData\\Local\\Continuum\\anaconda3\\lib\\site-packages\\IPython\\core\\interactiveshell.py:2971: UserWarning: To exit: use 'exit', 'quit', or Ctrl-D.\n",
      "  warn(\"To exit: use 'exit', 'quit', or Ctrl-D.\", stacklevel=1)\n"
     ]
    }
   ],
   "source": [
    "# USAGE\n",
    "# python gradient_descent.py\n",
    "\n",
    "# import the necessary packages\n",
    "import matplotlib.pyplot as plt\n",
    "from sklearn.datasets.samples_generator import make_blobs\n",
    "import numpy as np\n",
    "import argparse\n",
    "\n",
    "def sigmoid_activation(x):\n",
    "\t# compute and return the sigmoid activation value for a\n",
    "\t# given input value\n",
    "\treturn 1.0 / (1 + np.exp(-x))\n",
    "\n",
    "# construct the argument parse and parse the arguments\n",
    "ap = argparse.ArgumentParser()\n",
    "ap.add_argument(\"-e\", \"--epochs\", type=float, default=100,\n",
    "\thelp=\"# of epochs\")\n",
    "ap.add_argument(\"-a\", \"--alpha\", type=float, default=0.01,\n",
    "\thelp=\"learning rate\")\n",
    "args = vars(ap.parse_args())\n",
    "\n",
    "# generate a 2-class classification problem with 250 data points,\n",
    "# where each data point is a 2D feature vector\n",
    "(X, y) = make_blobs(n_samples=250, n_features=2, centers=2,\n",
    "\tcluster_std=1.05, random_state=20)\n",
    "\n",
    "# insert a column of 1's as the first entry in the feature\n",
    "# vector -- this is a little trick that allows us to treat\n",
    "# the bias as a trainable parameter *within* the weight matrix\n",
    "# rather than an entirely separate variable\n",
    "X = np.c_[np.ones((X.shape[0])), X]\n",
    "\n",
    "# initialize our weight matrix such it has the same number of\n",
    "# columns as our input features\n",
    "print(\"[INFO] starting training...\")\n",
    "W = np.random.uniform(size=(X.shape[1],))\n",
    "\n",
    "# initialize a list to store the loss value for each epoch\n",
    "lossHistory = []\n",
    "\n",
    "# loop over the desired number of epochs\n",
    "for epoch in np.arange(0, args[\"epochs\"]):\n",
    "\t# take the dot product between our features `X` and the\n",
    "\t# weight matrix `W`, then pass this value through the\n",
    "\t# sigmoid activation function, thereby giving us our\n",
    "\t# predictions on the dataset\n",
    "\tpreds = sigmoid_activation(X.dot(W))\n",
    "\n",
    "\t# now that we have our predictions, we need to determine\n",
    "\t# our `error`, which is the difference between our predictions\n",
    "\t# and the true values\n",
    "\terror = preds - y\n",
    "\n",
    "\t# given our `error`, we can compute the total loss value as\n",
    "\t# the sum of squared loss -- ideally, our loss should\n",
    "\t# decrease as we continue training\n",
    "\tloss = np.sum(error ** 2)\n",
    "\tlossHistory.append(loss)\n",
    "\tprint(\"[INFO] epoch #{}, loss={:.7f}\".format(epoch + 1, loss))\n",
    "\n",
    "\t# the gradient update is therefore the dot product between\n",
    "\t# the transpose of `X` and our error, scaled by the total\n",
    "\t# number of data points in `X`\n",
    "\tgradient = X.T.dot(error) / X.shape[0]\n",
    "\n",
    "\t# in the update stage, all we need to do is nudge our weight\n",
    "\t# matrix in the opposite direction of the gradient (hence the\n",
    "\t# term \"gradient descent\" by taking a small step towards a\n",
    "\t# set of \"more optimal\" parameters\n",
    "\tW += -args[\"alpha\"] * gradient\n",
    "\n",
    "# to demonstrate how to use our weight matrix as a classifier,\n",
    "# let's look over our a sample of training examples\n",
    "for i in np.random.choice(250, 10):\n",
    "\t# compute the prediction by taking the dot product of the\n",
    "\t# current feature vector with the weight matrix W, then\n",
    "\t# passing it through the sigmoid activation function\n",
    "\tactivation = sigmoid_activation(X[i].dot(W))\n",
    "\n",
    "\t# the sigmoid function is defined over the range y=[0, 1],\n",
    "\t# so we can use 0.5 as our threshold -- if `activation` is\n",
    "\t# below 0.5, it's class `0`; otherwise it's class `1`\n",
    "\tlabel = 0 if activation < 0.5 else 1\n",
    "\n",
    "\t# show our output classification\n",
    "\tprint(\"activation={:.4f}; predicted_label={}, true_label={}\".format(\n",
    "\t\tactivation, label, y[i]))\n",
    "\n",
    "# compute the line of best fit by setting the sigmoid function\n",
    "# to 0 and solving for X2 in terms of X1\n",
    "Y = (-W[0] - (W[1] * X)) / W[2]\n",
    "\n",
    "# plot the original data along with our line of best fit\n",
    "plt.figure()\n",
    "plt.scatter(X[:, 1], X[:, 2], marker=\"o\", c=y)\n",
    "plt.plot(X, Y, \"r-\")\n",
    "\n",
    "# construct a figure that plots the loss over time\n",
    "fig = plt.figure()\n",
    "plt.plot(np.arange(0, args[\"epochs\"]), lossHistory)\n",
    "fig.suptitle(\"Training Loss\")\n",
    "plt.xlabel(\"Epoch #\")\n",
    "plt.ylabel(\"Loss\")\n",
    "plt.show()\n"
   ]
  },
  {
   "cell_type": "code",
   "execution_count": null,
   "metadata": {},
   "outputs": [],
   "source": []
  }
 ],
 "metadata": {
  "kernelspec": {
   "display_name": "Python 3",
   "language": "python",
   "name": "python3"
  },
  "language_info": {
   "codemirror_mode": {
    "name": "ipython",
    "version": 3
   },
   "file_extension": ".py",
   "mimetype": "text/x-python",
   "name": "python",
   "nbconvert_exporter": "python",
   "pygments_lexer": "ipython3",
   "version": "3.6.5"
  }
 },
 "nbformat": 4,
 "nbformat_minor": 2
}
